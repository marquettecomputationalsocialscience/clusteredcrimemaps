{
 "cells": [
  {
   "cell_type": "markdown",
   "metadata": {},
   "source": [
    "This notebook takes the raw data found in multiple files within the \"raw\" folder and places them all into one file for a given month. The data is separated into motor vehicle theft and theft and finally geocoded so that it can be used in the map construction."
   ]
  },
  {
   "cell_type": "code",
   "execution_count": 1,
   "metadata": {
    "collapsed": true
   },
   "outputs": [],
   "source": [
    "import pandas as pd\n",
    "import os\n",
    "import geocoder\n",
    "import requests"
   ]
  },
  {
   "cell_type": "code",
   "execution_count": 2,
   "metadata": {
    "collapsed": true
   },
   "outputs": [],
   "source": [
    "for folder in os.listdir('./raw'):\n",
    "    file_list = []\n",
    "    for file in os.listdir('./raw/' + folder):\n",
    "        if(file.endswith('.xls')):\n",
    "            data = pd.read_excel('./raw/' + folder + '/' + file)\n",
    "            file_list.append(data)\n",
    "   \n",
    "    df = pd.concat(file_list, ignore_index=True)\n",
    "    \n",
    "    columns = ['Incident Number','Date', 'Time', 'Police District','Offense 1',\n",
    "          'Offense 2', 'Offense 3', 'Offense 4', 'Offense 5', 'Location']\n",
    "    df.columns = columns\n",
    "    \n",
    "    df = df[df['Offense 1'].notnull()]\n",
    "    df = df[df['Location'].notnull()]\n",
    "    \n",
    "    count_1 = df['Offense 1'].value_counts()\n",
    "    count_2 = df['Offense 2'].value_counts()\n",
    "    count_3 = df['Offense 3'].value_counts()\n",
    "    count_4 = df['Offense 4'].value_counts()\n",
    "    count_5 = df['Offense 5'].value_counts()\n",
    "\n",
    "    counts = [count_1, count_2, count_3, count_4, count_5]\n",
    "    for count in counts:\n",
    "        if count.empty:\n",
    "            df = df.drop(count.name, axis = 1)\n",
    "            \n",
    "    df.to_csv('./raw/' + folder + 'Complete.csv', sep=';', index = False)"
   ]
  },
  {
   "cell_type": "code",
   "execution_count": null,
   "metadata": {
    "collapsed": true
   },
   "outputs": [],
   "source": [
    "def address_to_latlong(address):\n",
    "    '''Returns the latitude and longitude for a given address'''\n",
    "    address += \", Milwaukee, WI\"\n",
    "    location = geocoder.arcgis(address, session = session)\n",
    "    \n",
    "    if not location.latlng:\n",
    "        print(\"Couldn't Parse: \"  + address )\n",
    "    else:\n",
    "        print(f'Parsed: {address} - {location.latlng}')\n",
    "    return location.latlng"
   ]
  },
  {
   "cell_type": "code",
   "execution_count": null,
   "metadata": {
    "scrolled": false
   },
   "outputs": [
    {
     "name": "stdout",
     "output_type": "stream",
     "text": [
      "Parsed: 4601 W WOOLWORTH AV, Milwaukee, WI - [43.13310406251304, -87.97014909980484]\n",
      "Parsed: 5385 N GREEN BAY AV, Milwaukee, WI - [43.11489740519164, -87.93399747326869]\n",
      "Parsed: 4136 N GREEN BAY AV, Milwaukee, WI - [43.09241987705574, -87.92443329805548]\n",
      "Parsed: 7140 N 41ST ST, Milwaukee, WI - [43.14666427116396, -87.96304284520212]\n",
      "Parsed: 7260 N 43RD ST, Milwaukee, WI - [43.14985879154153, -87.96528176815933]\n",
      "Parsed: 5385 N GREEN BAY AV, Milwaukee, WI - [43.11489740519164, -87.93399747326869]\n",
      "Parsed: 4142 N 12TH ST, Milwaukee, WI - [43.092314077990665, -87.92570588631791]\n",
      "Parsed: 4338 N 21ST ST, Milwaukee, WI - [43.09618699056494, -87.93813424712926]\n",
      "Parsed: 6043-C N TEUTONIA AV, Milwaukee, WI - [43.12749506819215, -87.95208493439858]\n",
      "Parsed: 4573 N 28TH ST, Milwaukee, WI - [43.10055933527613, -87.94798159925536]\n",
      "Parsed: 2446 W ATKINSON AV, Milwaukee, WI - [43.09444081101032, -87.9429047129957]\n",
      "Parsed: 6859 N 43RD ST, Milwaukee, WI - [43.142463115182636, -87.96578809925535]\n",
      "Parsed: 4121 W EGGERT PL, Milwaukee, WI - [43.11109949956732, -87.96446053413356]\n",
      "Parsed: 3900 W HAMPTON AV, Milwaukee, WI - [43.104687858580455, -87.96160016375347]\n",
      "Parsed: 4941 N 27TH ST, Milwaukee, WI - [43.107228031363604, -87.9465891503258]\n",
      "Parsed: 5066 N 38TH ST, Milwaukee, WI - [43.10969307799064, -87.96012541185313]\n",
      "Parsed: 5430 N 40TH ST, Milwaukee, WI - [43.116298994171615, -87.9623143607827]\n",
      "Parsed: 4925 N 24TH ST, Milwaukee, WI - [43.10715569608749, -87.9416076503258]\n",
      "Parsed: 4824 N 40TH ST, Milwaukee, WI - [43.10519341326679, -87.9626633280341]\n",
      "Parsed: 7140 N 41ST ST, Milwaukee, WI - [43.14666427116396, -87.96304284520212]\n",
      "Parsed: 4956 N 36TH ST, Milwaukee, WI - [43.10767796863641, -87.95770538631791]\n",
      "Parsed: 5126 N 38TH ST, Milwaukee, WI - [43.110074967450196, -87.9601034741089]\n",
      "Parsed: 5330 N 38TH ST, Milwaukee, WI - [43.11447224562872, -87.9599563607827]\n",
      "Parsed: 4405 N 27TH ST, Milwaukee, WI - [43.0973374288187, -87.94681755150313]\n",
      "Parsed: 4730 N TEUTONIA AV, Milwaukee, WI - [43.10296169499096, -87.94578005323483]\n",
      "Parsed: 2408 W CAPITOL DR, Milwaukee, WI - [43.08985368388762, -87.94229480961022]\n",
      "Parsed: 4941 N 52ND ST, Milwaukee, WI - [43.107435335276136, -87.97764109925535]\n",
      "Parsed: 2450 W ROOSEVELT DR, Milwaukee, WI - [43.095207202377196, -87.94368604414554]\n",
      "Parsed: 5329 N TEUTONIA AV, Milwaukee, WI - [43.11429209908247, -87.95019943219422]\n",
      "Parsed: 4159 N 15TH ST, Milwaukee, WI - [43.092765366639725, -87.92945059925536]\n",
      "Parsed: 4344 N 29TH ST, Milwaukee, WI - [43.096221052455434, -87.94924335356933]\n",
      "Parsed: 4608 N 30TH ST, Milwaukee, WI - [43.10113416180968, -87.95038637520942]\n",
      "Parsed: 3219 W FAIRMOUNT AV, Milwaukee, WI - [43.10817151399405, -87.95354383236193]\n",
      "Parsed: 2505 W CORNELL ST, Milwaukee, WI - [43.102137887519135, -87.94553009456388]\n",
      "Parsed: 3215 W ORIOLE DR, Milwaukee, WI - [43.12372446681872, -87.95348027699232]\n",
      "Parsed: 5550 N 27TH ST, Milwaukee, WI - [43.118197994171624, -87.94621535299241]\n",
      "Parsed: 4765 N 32ND ST, Milwaukee, WI - [43.10312403136362, -87.95295760315051]\n",
      "Parsed: 1801 W OLIVE ST, Milwaukee, WI - [43.09399677367502, -87.93350891822978]\n",
      "Parsed: 4808 W MILL RD, Milwaukee, WI - [43.13404048600597, -87.97335397446477]\n",
      "Parsed: 4757 N 21ST ST, Milwaukee, WI - [43.103808922009364, -87.93816013200394]\n",
      "Parsed: 5051 N 35TH ST, Milwaukee, WI - [43.109150816057785, -87.95653596323064]\n",
      "Parsed: 7061 N TEUTONIA AV #104, Milwaukee, WI - [43.1462828664955, -87.95620443577224]\n",
      "Parsed: 5371 N 35TH ST, Milwaukee, WI - [43.115311005828374, -87.9563676503258]\n",
      "Parsed: 4668 N 29TH ST, Milwaukee, WI - [43.10234932944775, -87.94905435356932]\n",
      "Parsed: 5407 N 39TH ST, Milwaukee, WI - [43.115814754371286, -87.96118909925535]\n",
      "Parsed: 5375 N 38TH ST, Milwaukee, WI - [43.115364754371285, -87.96000763200395]\n",
      "Parsed: 2728 W CAPITOL DR, Milwaukee, WI - [43.08990346826103, -87.9480315]\n",
      "Parsed: 5300 N 39TH ST, Milwaukee, WI - [43.11391382653355, -87.9611859190665]\n",
      "Parsed: 4821 N 19TH PL, Milwaukee, WI - [43.10493353427779, -87.93535961757723]\n",
      "Parsed: 5357 N 38TH ST, Milwaukee, WI - [43.11501286372555, -87.96002113200394]\n",
      "Parsed: 2041 W ATKINSON AV, Milwaukee, WI - [43.090943513157306, -87.93790711076788]\n",
      "Parsed: 2728 W CAPITOL DR, Milwaukee, WI - [43.08990346826103, -87.9480315]\n",
      "Parsed: 4354 N 29TH ST, Milwaukee, WI - [43.096446052455434, -87.94924335356933]\n",
      "Parsed: 2022 W CUSTER AV, Milwaukee, WI - [43.115144206503494, -87.93708396878063]\n",
      "Parsed: 5062 N 38TH ST, Milwaukee, WI - [43.10957696863639, -87.96013538631792]\n",
      "Parsed: 2600 W VICTORY LA #4, Milwaukee, WI - [43.10138245268046, -87.94561091909516]\n",
      "Parsed: 3195 N 58TH ST, Milwaukee, WI - [43.07737729447746, -87.98590734779826]\n",
      "Parsed: 2237 N 52ND ST, Milwaukee, WI - [43.05999625145711, -87.97875915364402]\n",
      "Parsed: 2978 N 51ST ST, Milwaukee, WI - [43.07330599417162, -87.97731489353127]\n",
      "Parsed: 3600 N 61ST ST, Milwaukee, WI - [43.08364758090485, -87.98828641185312]\n",
      "Parsed: 3128 N 54TH ST, Milwaukee, WI - [43.07598888481738, -87.98078491185314]\n",
      "Parsed: 3755 N 60TH ST, Milwaukee, WI - [43.085627863725534, -87.9871580809335]\n",
      "Parsed: 5816 W APPLETON AV, Milwaukee, WI - [43.068565812106826, -87.98561355785111]\n",
      "Parsed: 221 N 66TH ST, Milwaukee, WI - [43.033532437417016, -87.99451856650677]\n",
      "Parsed: 401 S 70TH ST, Milwaukee, WI - [43.02820727699233, -87.99993161036386]\n",
      "Parsed: 5000 W CHAMBERS ST, Milwaukee, WI - [43.073474483841586, -87.9761812590745]\n",
      "Parsed: 2774 N 75TH ST, Milwaukee, WI - [43.06969800000002, -88.00619535356932]\n",
      "Parsed: 7140 W CHAMBERS CT #1, Milwaukee, WI - [43.07354248600598, -88.00164050291419]\n"
     ]
    }
   ],
   "source": [
    "for file in os.listdir('./raw/'):\n",
    "    if(file.endswith('.csv')):\n",
    "        df = pd.read_csv('./raw/'+ file, sep =';')\n",
    "    \n",
    "        zipped = zip(df['Offense 1'].items(), df['Offense 2'].items(), \n",
    "        df['Offense 3'].items())\n",
    "        keyword = 'theft'\n",
    "        \n",
    "        for off_1, off_2, off_3 in zipped:\n",
    "            if(not keyword in off_1[1].lower() and\n",
    "              (pd.isnull(off_2[1]) or not keyword in off_2[1].lower()) and\n",
    "              (pd.isnull(off_3[1]) or not keyword in off_3[1].lower())):\n",
    "                df = df.drop(off_1[0])\n",
    " \n",
    "        df['Address'] = df['Location'].copy()\n",
    "            \n",
    "        theft = df.copy()\n",
    "        m_theft = df.copy()\n",
    "        \n",
    "        zipped = zip(df['Offense 1'].items(), df['Offense 2'].items(), \n",
    "        df['Offense 3'].items())\n",
    "        keyword = 'motor vehicle theft'\n",
    "        \n",
    "        for off_1, off_2, off_3 in zipped:\n",
    "            if(not keyword in off_1[1].lower() and\n",
    "                (pd.isnull(off_2[1]) or not keyword in off_2[1].lower()) and\n",
    "                (pd.isnull(off_3[1]) or not keyword in off_3[1].lower())):\n",
    "                m_theft = m_theft.drop(off_1[0])\n",
    "            else:\n",
    "                theft = theft.drop(off_1[0])\n",
    "                \n",
    "        \n",
    "        with requests.Session() as session:\n",
    "            # This is likely to be very slow\n",
    "            # depending on the geocoding service used\n",
    "            theft['Location'] = theft['Location'].apply(address_to_latlong)\n",
    "            m_theft['Location'] = m_theft['Location'].apply(address_to_latlong)\n",
    "            \n",
    "        theft.to_csv('./' + 'theft_' + file.split('Complete.csv')[0] + '.csv', sep=';', index = False)\n",
    "        m_theft.to_csv('./' + 'm_theft_' + file.split('Complete.csv')[0] + '.csv', sep=';', index = False)\n",
    "        print(f'Finished {file}')"
   ]
  },
  {
   "cell_type": "code",
   "execution_count": null,
   "metadata": {
    "collapsed": true
   },
   "outputs": [],
   "source": []
  }
 ],
 "metadata": {
  "kernelspec": {
   "display_name": "Python 3",
   "language": "python",
   "name": "python3"
  },
  "language_info": {
   "codemirror_mode": {
    "name": "ipython",
    "version": 3
   },
   "file_extension": ".py",
   "mimetype": "text/x-python",
   "name": "python",
   "nbconvert_exporter": "python",
   "pygments_lexer": "ipython3",
   "version": "3.6.1"
  }
 },
 "nbformat": 4,
 "nbformat_minor": 2
}
