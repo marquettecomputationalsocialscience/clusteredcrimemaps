{
 "cells": [
  {
   "cell_type": "markdown",
   "metadata": {},
   "source": [
    "This notebook takes the raw data found in multiple files within the \"raw\" folder and places them all into one file for a given month. The data is separated into motor vehicle theft and theft and finally geocoded so that it can be used in the map construction."
   ]
  },
  {
   "cell_type": "code",
   "execution_count": null,
   "metadata": {
    "collapsed": true
   },
   "outputs": [],
   "source": [
    "import pandas as pd\n",
    "import os\n",
    "import geocoder\n",
    "import requests"
   ]
  },
  {
   "cell_type": "code",
   "execution_count": null,
   "metadata": {
    "collapsed": true
   },
   "outputs": [],
   "source": [
    "for folder in os.listdir('./raw'):\n",
    "    file_list = []\n",
    "    for file in os.listdir('./raw/' + folder):\n",
    "        if(file.endswith('.xls')):\n",
    "            data = pd.read_excel('./raw/' + folder + '/' + file)\n",
    "            file_list.append(data)\n",
    "   \n",
    "    df = pd.concat(file_list, ignore_index=True)\n",
    "    \n",
    "    columns = ['Incident Number','Date', 'Time', 'Police District','Offense 1',\n",
    "          'Offense 2', 'Offense 3', 'Offense 4', 'Offense 5', 'Location']\n",
    "    df.columns = columns\n",
    "    \n",
    "    df = df[df['Offense 1'].notnull()]\n",
    "    df = df[df['Location'].notnull()]\n",
    "    \n",
    "    count_1 = df['Offense 1'].value_counts()\n",
    "    count_2 = df['Offense 2'].value_counts()\n",
    "    count_3 = df['Offense 3'].value_counts()\n",
    "    count_4 = df['Offense 4'].value_counts()\n",
    "    count_5 = df['Offense 5'].value_counts()\n",
    "\n",
    "    counts = [count_1, count_2, count_3, count_4, count_5]\n",
    "    for count in counts:\n",
    "        if count.empty:\n",
    "            df = df.drop(count.name, axis = 1)\n",
    "            \n",
    "    df.to_csv('./raw/' + folder + 'Complete.csv', sep=';', index = False)"
   ]
  },
  {
   "cell_type": "code",
   "execution_count": null,
   "metadata": {
    "collapsed": true
   },
   "outputs": [],
   "source": [
    "def address_to_latlong(address):\n",
    "    '''Returns the latitude and longitude for a given address'''\n",
    "    address += \", Milwaukee, WI\"\n",
    "    location = geocoder.arcgis(address, session = session)\n",
    "    if not location.latlng:\n",
    "        print(\"Couldn't Parse: \"  + address )\n",
    "    return location.latlng"
   ]
  },
  {
   "cell_type": "code",
   "execution_count": null,
   "metadata": {
    "collapsed": true,
    "scrolled": false
   },
   "outputs": [],
   "source": [
    "for file in os.listdir('./raw/'):\n",
    "    if(file.endswith('.csv')):\n",
    "        df = pd.read_csv('./raw/'+ file, sep =';')\n",
    "    \n",
    "        zipped = zip(df['Offense 1'].items(), df['Offense 2'].items(), \n",
    "        df['Offense 3'].items())\n",
    "        keyword = 'theft'\n",
    "        \n",
    "        for off_1, off_2, off_3 in zipped:\n",
    "            if(not keyword in off_1[1].lower() and\n",
    "              (pd.isnull(off_2[1]) or not keyword in off_2[1].lower()) and\n",
    "              (pd.isnull(off_3[1]) or not keyword in off_3[1].lower())):\n",
    "                df = df.drop(off_1[0])\n",
    " \n",
    "        df['Address'] = df['Location'].copy()\n",
    "            \n",
    "        theft = df.copy()\n",
    "        m_theft = df.copy()\n",
    "        \n",
    "        zipped = zip(df['Offense 1'].items(), df['Offense 2'].items(), \n",
    "        df['Offense 3'].items())\n",
    "        keyword = 'motor vehicle theft'\n",
    "        \n",
    "        for off_1, off_2, off_3 in zipped:\n",
    "            if(not keyword in off_1[1].lower() and\n",
    "                (pd.isnull(off_2[1]) or not keyword in off_2[1].lower()) and\n",
    "                (pd.isnull(off_3[1]) or not keyword in off_3[1].lower())):\n",
    "                m_theft = m_theft.drop(off_1[0])\n",
    "            else:\n",
    "                theft = theft.drop(off_1[0])\n",
    "                \n",
    "        \n",
    "        with requests.Session() as session:\n",
    "            # This is likely to be very slow\n",
    "            # depending on the geocoding service used\n",
    "            theft['Location'] = theft['Location'].apply(address_to_latlong)\n",
    "            m_theft['Location'] = m_theft['Location'].apply(address_to_latlong)\n",
    "            \n",
    "        theft.to_csv('./' + 'theft_' + file.split('Complete.csv')[0] + '.csv', sep=';', index = False)\n",
    "        m_theft.to_csv('./' + 'm_theft_' + file.split('Complete.csv')[0] + '.csv', sep=';', index = False)\n",
    "        print(f'Finished {file}')"
   ]
  }
 ],
 "metadata": {
  "kernelspec": {
   "display_name": "Python 3",
   "language": "python",
   "name": "python3"
  },
  "language_info": {
   "codemirror_mode": {
    "name": "ipython",
    "version": 3
   },
   "file_extension": ".py",
   "mimetype": "text/x-python",
   "name": "python",
   "nbconvert_exporter": "python",
   "pygments_lexer": "ipython3",
   "version": "3.6.1"
  }
 },
 "nbformat": 4,
 "nbformat_minor": 2
}
