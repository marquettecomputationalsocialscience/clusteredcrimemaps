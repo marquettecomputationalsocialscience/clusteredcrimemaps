{
 "cells": [
  {
   "cell_type": "code",
   "execution_count": 3,
   "metadata": {
    "collapsed": true
   },
   "outputs": [],
   "source": [
    "import os\n",
    "import requests"
   ]
  },
  {
   "cell_type": "code",
   "execution_count": 4,
   "metadata": {},
   "outputs": [
    {
     "ename": "FileExistsError",
     "evalue": "[WinError 183] Cannot create a file when that file already exists: 'hi'",
     "output_type": "error",
     "traceback": [
      "\u001b[1;31m---------------------------------------------------------------------------\u001b[0m",
      "\u001b[1;31mFileExistsError\u001b[0m                           Traceback (most recent call last)",
      "\u001b[1;32m<ipython-input-4-82502f2a1c07>\u001b[0m in \u001b[0;36m<module>\u001b[1;34m()\u001b[0m\n\u001b[0;32m      1\u001b[0m \u001b[0mos\u001b[0m\u001b[1;33m.\u001b[0m\u001b[0mmkdir\u001b[0m\u001b[1;33m(\u001b[0m\u001b[1;34m'hi'\u001b[0m\u001b[1;33m)\u001b[0m\u001b[1;33m\u001b[0m\u001b[0m\n\u001b[1;32m----> 2\u001b[1;33m \u001b[0mos\u001b[0m\u001b[1;33m.\u001b[0m\u001b[0mmkdir\u001b[0m\u001b[1;33m(\u001b[0m\u001b[1;34m'hi'\u001b[0m\u001b[1;33m)\u001b[0m\u001b[1;33m\u001b[0m\u001b[0m\n\u001b[0m",
      "\u001b[1;31mFileExistsError\u001b[0m: [WinError 183] Cannot create a file when that file already exists: 'hi'"
     ]
    }
   ],
   "source": [
    "try:\n",
    "    "
   ]
  },
  {
   "cell_type": "code",
   "execution_count": 50,
   "metadata": {
    "collapsed": true
   },
   "outputs": [],
   "source": [
    "data = {'formQuery:menuAldId':1, \n",
    "        'formQuery:selectRad':'incidentLevel', \n",
    "        'dateFromCrime':'01/01/2005', \n",
    "        'dateToCrime':'07/10/2017',\n",
    "        'dateFromAcci':'MM/DD/YYYY',\n",
    "        'dateToAcci':'MM/DD/YYYY',\n",
    "        'formQuery:radioFormat':'excel',\n",
    "        'formQuery:buttonQueryId':'Submit',\n",
    "        'formQuery:buttonResetId':'Clear',\n",
    "        'formQuery_SUBMIT':1, \n",
    "        'javax.faces.ViewState':'j_id8:j_id12'}\n",
    "\n",
    "headers = {'Accept':'text/html,application/xhtml+xml,application/xml;q=0.9,image/webp,image/apng,*/*;q=0.8',\n",
    "           'Accept-Encoding':'gzip, deflate',\n",
    "           'Accept-Language':'en-US,en;q=0.8',\n",
    "           'Cache-Control':'max-age=0',\n",
    "           'Connection':'keep-alive',\n",
    "           'Content-Length':'289',\n",
    "           'Content-Type':'application/x-www-form-urlencoded',\n",
    "           'Cookie':'__utma=116865050.46345168.1496938709.1498690358.1498763206.4; __utmz=116865050.1498763206.4.4.utmccn=(referral)|utmcsr=city.milwaukee.gov|utmcct=/DownloadMapData3497.htm|utmcmd=referral; JSESSIONID=0001kTUljano4n8x8_sv0IhnhPS:166pun9c5; _ga=GA1.2.1203834187.1496847807; _gid=GA1.2.1853685424.1499888152',\n",
    "           'Host':'itmdapps.milwaukee.gov',\n",
    "           'Origin':'http://itmdapps.milwaukee.gov',\n",
    "           'Referer':'http://itmdapps.milwaukee.gov/publicApplication_QD/queryDownload/aldermanicDistfm.faces',\n",
    "           'Upgrade-Insecure-Requests':'1',\n",
    "           'User-Agent':'Mozilla/5.0 (Windows NT 10.0; Win64; x64) AppleWebKit/537.36 (KHTML, like Gecko) Chrome/59.0.3071.115 Safari/537.36' \n",
    "          }\n",
    "url = 'http://itmdapps.milwaukee.gov/publicApplication_QD/queryDownload/aldermanicDistfm.faces'\n",
    "\n",
    "r = requests.post(url,data=data, headers=headers)\n"
   ]
  },
  {
   "cell_type": "code",
   "execution_count": 52,
   "metadata": {
    "collapsed": true
   },
   "outputs": [],
   "source": [
    "with open('test.xls','wb') as f:\n",
    "    f.write(r.content)"
   ]
  }
 ],
 "metadata": {
  "kernelspec": {
   "display_name": "Python 3",
   "language": "python",
   "name": "python3"
  },
  "language_info": {
   "codemirror_mode": {
    "name": "ipython",
    "version": 3
   },
   "file_extension": ".py",
   "mimetype": "text/x-python",
   "name": "python",
   "nbconvert_exporter": "python",
   "pygments_lexer": "ipython3",
   "version": "3.6.1"
  }
 },
 "nbformat": 4,
 "nbformat_minor": 2
}
