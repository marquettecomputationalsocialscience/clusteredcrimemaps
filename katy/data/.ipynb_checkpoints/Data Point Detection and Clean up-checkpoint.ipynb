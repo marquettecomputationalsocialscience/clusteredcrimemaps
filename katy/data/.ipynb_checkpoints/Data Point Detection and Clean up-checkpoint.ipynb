{
 "cells": [
  {
   "cell_type": "code",
   "execution_count": null,
   "metadata": {
    "collapsed": true
   },
   "outputs": [],
   "source": [
    "import pandas as pd\n",
    "import numpy as np\n",
    "import shapely\n",
    "import os\n",
    "import geopandas as gpd"
   ]
  },
  {
   "cell_type": "code",
   "execution_count": null,
   "metadata": {
    "scrolled": false
   },
   "outputs": [],
   "source": [
    "demographics = gpd.read_file('../KMeans/census.geoJSON')\n",
    "\n",
    "for folder in os.listdir():\n",
    "    if os.path.isdir(folder):\n",
    "        for file in os.listdir(folder):\n",
    "            if file.endswith('.csv'):\n",
    "                \n",
    "                #print('--------------')\n",
    "                df = pd.read_csv(folder +'/' + file, sep=';')\n",
    "                for i in range(len(df)):\n",
    "                    value_str = df.loc[i,'Location']\n",
    "                    x,y = map(float,value_str[1:-1].split(','))\n",
    "                    point = shapely.geometry.Point(y,x)\n",
    "                    if not np.any(demographics.loc[:,'geometry'].apply(point.intersects)):\n",
    "                       # print(df.loc[i,:])\n",
    "                        df = df.drop(i)\n",
    "                os.remove(folder + '/' + file)\n",
    "                df.to_csv(folder + '/' + file, sep=';')\n",
    "                print(file)"
   ]
  }
 ],
 "metadata": {
  "kernelspec": {
   "display_name": "Python 3",
   "language": "python",
   "name": "python3"
  },
  "language_info": {
   "codemirror_mode": {
    "name": "ipython",
    "version": 3
   },
   "file_extension": ".py",
   "mimetype": "text/x-python",
   "name": "python",
   "nbconvert_exporter": "python",
   "pygments_lexer": "ipython3",
   "version": "3.6.1"
  }
 },
 "nbformat": 4,
 "nbformat_minor": 2
}
