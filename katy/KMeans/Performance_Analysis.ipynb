{
 "cells": [
  {
   "cell_type": "code",
   "execution_count": 7,
   "metadata": {
    "collapsed": true
   },
   "outputs": [],
   "source": [
    "import numpy as np\n",
    "import os\n",
    "import subprocess\n",
    "import json\n",
    "import calendar\n",
    "import pandas as pd\n",
    "import geopandas as gpd\n",
    "import shapely\n",
    "from scipy.spatial.distance import cdist\n",
    "import datetime"
   ]
  },
  {
   "cell_type": "code",
   "execution_count": 8,
   "metadata": {
    "collapsed": true
   },
   "outputs": [],
   "source": [
    "def distance_street(lat_1, lon_1, lat_2, lon_2):\n",
    "    start = datetime.datetime.now()\n",
    "    query = 'http://localhost:5000/route/v1/driving/%s,%s;%s,%s?overview=false' % (str(lon_1), str(lat_1), str(lon_2), str(lat_2))\n",
    "    result = subprocess.run([\"curl\", query], stdout=subprocess.PIPE)\n",
    "    resultStr = result.stdout.decode(\"utf-8\")\n",
    "    resultDict = json.loads(resultStr)\n",
    "    streetDistance = resultDict['routes'][0]['distance']\n",
    "    #print(distance)\n",
    "    end = datetime.datetime.now()\n",
    "    print(end - start)\n",
    "    return streetDistance\n",
    "\n",
    "def distance_haversine(lat_1, lon_1, lat_2, lon_2):\n",
    "    start = datetime.datetime.now()\n",
    "    d_lat = lat_2 - lat_1\n",
    "    d_lon = lon_2 - lon_1\n",
    "\n",
    "    arc = np.sin(d_lat/2.0)**2 + np.cos(lat_1)*np.cos(lat_2)*np.sin(d_lon/2)**2\n",
    "\n",
    "    c = 2 * np.arcsin(np.sqrt(arc))\n",
    "    km = 6372.8 * c\n",
    "    end = datetime.datetime.now()\n",
    "    print(end-start)\n",
    "    return km\n",
    "\n",
    "def distance_manhattan(lat_1, lon_1, lat_2, lon_2):\n",
    "    start = datetime.datetime.now()\n",
    "    manhattanDistance = abs(lat_2 - lat_1) + abs(lon_2 - lon_1)\n",
    "    end = datetime.datetime.now()\n",
    "    print(end-start)\n",
    "    return manhattanDistance"
   ]
  },
  {
   "cell_type": "code",
   "execution_count": 10,
   "metadata": {},
   "outputs": [
    {
     "name": "stdout",
     "output_type": "stream",
     "text": [
      "0:00:00.274390\n",
      "2134.1\n",
      "0:00:00\n",
      "76.8769773457\n",
      "0:00:00\n",
      "0.02234200000001607\n"
     ]
    }
   ],
   "source": [
    "dist = distance_street(43.090407,-87.929521,43.095108,-87.947162)\n",
    "print(dist)\n",
    "\n",
    "dist = distance_haversine(43.090407,-87.929521,43.095108,-87.947162)\n",
    "print(dist)\n",
    "\n",
    "dist = distance_manhattan(43.090407,-87.929521,43.095108,-87.947162)\n",
    "print(dist)"
   ]
  }
 ],
 "metadata": {
  "kernelspec": {
   "display_name": "Python 3",
   "language": "python",
   "name": "python3"
  },
  "language_info": {
   "codemirror_mode": {
    "name": "ipython",
    "version": 3
   },
   "file_extension": ".py",
   "mimetype": "text/x-python",
   "name": "python",
   "nbconvert_exporter": "python",
   "pygments_lexer": "ipython3",
   "version": "3.6.1"
  }
 },
 "nbformat": 4,
 "nbformat_minor": 2
}
