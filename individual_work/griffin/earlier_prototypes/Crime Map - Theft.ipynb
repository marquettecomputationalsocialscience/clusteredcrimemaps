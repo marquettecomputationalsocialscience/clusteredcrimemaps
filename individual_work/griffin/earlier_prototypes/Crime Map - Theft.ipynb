{
 "cells": [
  {
   "cell_type": "markdown",
   "metadata": {},
   "source": [
    "This notebook is largely depreciated and was used to draw an initial prototype of the map using Bokeh. This method was replaced with the more robust maps created with d3, which can be found in the html files."
   ]
  },
  {
   "cell_type": "code",
   "execution_count": 1,
   "metadata": {
    "collapsed": true
   },
   "outputs": [],
   "source": [
    "import pandas as pd\n",
    "import matplotlib.pyplot as plt\n",
    "import matplotlib.cm\n",
    "import numpy as np\n",
    "import geopandas as gpd\n",
    "from bokeh.io import output_file, show\n",
    "from bokeh.models import ColumnDataSource, HoverTool, LogColorMapper\n",
    "from bokeh.plotting import figure, save, output_file, show\n",
    "from shapely.geometry import Point\n",
    "from geopandas import GeoDataFrame\n",
    "from bokeh.models import HoverTool"
   ]
  },
  {
   "cell_type": "code",
   "execution_count": 2,
   "metadata": {
    "collapsed": true
   },
   "outputs": [],
   "source": [
    "df = pd.read_csv(\"./CrimeData/TheftData.csv\", sep =';')"
   ]
  },
  {
   "cell_type": "code",
   "execution_count": 3,
   "metadata": {
    "collapsed": true,
    "scrolled": false
   },
   "outputs": [],
   "source": [
    "#shape_filepath = r\"./CrimeData/Ald2012/alderman.shp\"\n",
    "#shape_filepath = r\"./CrimeData/MPD_police_district/poldist.shp\"\n",
    "#shape_filepath = r\"./CrimeData/mygeodata/citylimit.shp\"\n",
    "shape_filepath = r\"./CrimeData/neighborhood/neighborhood.shp\"\n",
    "\n",
    "shapes = gpd.read_file(shape_filepath)\n",
    "\n",
    "shapes['geometry'] = shapes['geometry'].to_crs(epsg=3070)\n",
    "\n",
    "def get_xy_coords(geometry, coord_type):\n",
    "    if coord_type == 'x':\n",
    "        return geometry.coords.xy[0]\n",
    "    elif coord_type == 'y':\n",
    "        return geometry.coords.xy[1]\n",
    "\n",
    "def get_poly_coords(geometry, coord_type):\n",
    "    ext = geometry.exterior\n",
    "    return get_xy_coords(ext, coord_type)\n",
    "    \n",
    "def get_multi_polygon_coords(multi_polygon, coord_type):\n",
    "    for i, part in enumerate(multi_polygon):\n",
    "        if i == 0:\n",
    "            coord_arrays = get_poly_coords(part, coord_type=coord_type)\n",
    "        else:\n",
    "            coord_arrays += get_poly_coords(part, coord_type=coord_type)\n",
    "\n",
    "    return coord_arrays\n",
    "\n",
    "def get_coords(row, geom, coord_type):\n",
    "    geometry = row[geom]\n",
    "    \n",
    "    gtype = geometry.geom_type\n",
    "    if gtype == 'Polygon':\n",
    "        return list(get_poly_coords(geometry, coord_type))\n",
    "    elif gtype == 'MultiPolygon':\n",
    "        return list(get_multi_polygon_coords(geometry, coord_type))\n",
    "    elif gtype == 'Point':\n",
    "        return get_xy_coords(geometry, coord_type)\n",
    "\n",
    "\n",
    "shapes['x'] = shapes.apply(get_coords, geom = 'geometry', coord_type = 'x', \n",
    "                           axis =1)\n",
    "shapes['y'] = shapes.apply(get_coords, geom = 'geometry', coord_type = 'y', \n",
    "                           axis =1)\n",
    "\n",
    "s_df = shapes.drop('geometry', axis= 1).copy()\n"
   ]
  },
  {
   "cell_type": "code",
   "execution_count": 4,
   "metadata": {
    "collapsed": true,
    "scrolled": false
   },
   "outputs": [],
   "source": [
    "x = []\n",
    "y = []\n",
    "\n",
    "def gen_coords(loc):\n",
    "    data = loc[1:-1].split(',')\n",
    "    data = list((float(data[0]), float(data[1])))\n",
    "    x.append(data[1])\n",
    "    y.append(data[0])\n",
    "    \n",
    "    \n",
    "df['Location'].apply(gen_coords)\n",
    "points = [Point(xy) for xy in zip(x,y)]\n",
    "crs = {'init': 'epsg:4326'}\n",
    "geo_df = GeoDataFrame(df,crs=crs, geometry=points)\n",
    "geo_df['geometry'] = geo_df['geometry'].to_crs(epsg=3070)\n",
    "\n",
    "geo_df['x'] = geo_df.apply(get_coords, geom = 'geometry', coord_type = 'x', \n",
    "                           axis =1)\n",
    "geo_df['y'] = geo_df.apply(get_coords, geom = 'geometry', coord_type = 'y', \n",
    "                           axis =1)\n",
    "geo_df['x']= geo_df['x'].apply(lambda x: x[0])\n",
    "geo_df['y']= geo_df['y'].apply(lambda x: x[0])\n",
    "\n",
    "def count_points(polygon, points):\n",
    "    i = 0\n",
    "    for index, point in points:\n",
    "        if polygon.contains(point):\n",
    "            i += 1\n",
    "    return i\n",
    "        \n",
    "s_df['Crime Count'] = shapes['geometry'].copy()\n",
    "\n",
    "crime_list =[]    \n",
    "for index, polygon in s_df['Crime Count'].items():\n",
    "    crime_list.append(count_points(polygon,geo_df['geometry'].items()))\n",
    "\n",
    "geo_df = geo_df.drop('geometry', axis= 1).copy()\n",
    "s_df['Crime Count'] = crime_list\n",
    "\n",
    "psource = ColumnDataSource(geo_df)\n",
    "s_source = ColumnDataSource(s_df)"
   ]
  },
  {
   "cell_type": "code",
   "execution_count": 6,
   "metadata": {
    "scrolled": false
   },
   "outputs": [
    {
     "data": {
      "text/plain": [
       "'C:\\\\Users\\\\griff\\\\Desktop\\\\Computer Science\\\\Ethics of Algorithms Code\\\\clusteredcrimemaps\\\\maps_view\\\\theftmap.html'"
      ]
     },
     "execution_count": 6,
     "metadata": {},
     "output_type": "execute_result"
    }
   ],
   "source": [
    "from bokeh.palettes import PuBu as Palette\n",
    "\n",
    "#output_file(\"theftmap.html\")\n",
    "palette = Palette[9]\n",
    "palette = palette[::-1]\n",
    "color_mapper = LogColorMapper(palette=palette)\n",
    "hover = HoverTool(names=['Points'])\n",
    "hover.tooltips = [('Address', '@Address'),\n",
    "                  ('Crime Commited', '@{Offense 1}'),\n",
    "                  ('Date of Crime', '@Date'),\n",
    "                  ('Time of Crime','@Time'),]\n",
    "\n",
    "p = figure(title=\"Theft in Milwaukee from 1/1/2015 to 1/31/2015\", plot_width = 500, plot_height=750, toolbar_location=None,\n",
    "           active_drag ='pan', active_scroll='wheel_zoom',)\n",
    "p.axis.visible = False\n",
    "\n",
    "p.patches('x', 'y', source = s_source, fill_alpha=0.8, line_color=\"black\", line_width=.3,\n",
    "         fill_color ={'field':'Crime Count','transform': color_mapper},)\n",
    "p.circle(x='x', y='y',source = psource, size = 5, color='black', name ='Points')\n",
    "p.add_tools(hover)\n",
    "\n",
    "show(p)\n",
    "outfp = r\"./maps_view/theftmap.html\"\n",
    "save(p, outfp)\n"
   ]
  }
 ],
 "metadata": {
  "kernelspec": {
   "display_name": "Python 3",
   "language": "python",
   "name": "python3"
  },
  "language_info": {
   "codemirror_mode": {
    "name": "ipython",
    "version": 3
   },
   "file_extension": ".py",
   "mimetype": "text/x-python",
   "name": "python",
   "nbconvert_exporter": "python",
   "pygments_lexer": "ipython3",
   "version": "3.6.1"
  }
 },
 "nbformat": 4,
 "nbformat_minor": 2
}
